{
 "cells": [
  {
   "cell_type": "code",
   "execution_count": null,
   "metadata": {},
   "outputs": [],
   "source": [
    "# whale_activity_analysis.ipynb\n",
    "\n",
    "# Import necessary libraries\n",
    "import pandas as pd\n",
    "import numpy as np\n",
    "import matplotlib.pyplot as plt\n",
    "import requests\n",
    "\n",
    "# Fetch Solana transaction data (again from the Solana API or your endpoint)\n",
    "data_url = \"https://api.solana.com/transactions\"  # Replace with actual Solana endpoint\n",
    "response = requests.get(data_url)\n",
    "data = response.json()\n",
    "\n",
    "# Prepare the data\n",
    "df = pd.DataFrame(data['transactions'])\n",
    "df['amount'] = df['amount'].astype(float)\n",
    "df['sender'] = df['sender_address']\n",
    "df['receiver'] = df['receiver_address']\n",
    "df['timestamp'] = pd.to_datetime(df['timestamp'])\n",
    "\n",
    "# Identify whale transactions (e.g., transactions over a certain threshold)\n",
    "whale_threshold = 100000  # Transaction amount threshold to be considered a whale transaction\n",
    "whale_df = df[df['amount'] > whale_threshold]\n",
    "\n",
    "# Visualize whale activities\n",
    "plt.figure(figsize=(10, 6))\n",
    "plt.scatter(whale_df['timestamp'], whale_df['amount'], color='red')\n",
    "plt.title(\"Whale Activity in Solana Transactions\")\n",
    "plt.xlabel(\"Timestamp\")\n",
    "plt.ylabel(\"Transaction Amount\")\n",
    "plt.show()\n",
    "\n",
    "# Track DCA (Dollar Cost Averaging) behavior: if whales are consistently purchasing small amounts\n",
    "whale_df['hour'] = whale_df['timestamp'].dt.hour\n",
    "dca_activity = whale_df.groupby(['sender', 'hour']).agg({'amount': 'sum'}).reset_index()\n",
    "\n",
    "# Visualize DCA activity\n",
    "plt.figure(figsize=(10, 6))\n",
    "plt.plot(dca_activity['hour'], dca_activity['amount'], marker='o', color='blue')\n",
    "plt.title(\"Whale DCA Activity on Solana\")\n",
    "plt.xlabel(\"Hour of the Day\")\n",
    "plt.ylabel(\"Total Amount Transacted\")\n",
    "plt.show()\n",
    "\n",
    "# Save whale transaction and DCA data\n",
    "whale_df.to_csv('whale_activity_results.csv', index=False)\n"
   ]
  }
 ],
 "metadata": {
  "language_info": {
   "name": "python"
  }
 },
 "nbformat": 4,
 "nbformat_minor": 2
}
